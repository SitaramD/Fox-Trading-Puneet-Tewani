{
 "cells": [
  {
   "cell_type": "code",
   "execution_count": null,
   "id": "decreased-anime",
   "metadata": {},
   "outputs": [],
   "source": [
    "# Placing Orders for ONGC using Alice blue terminal"
   ]
  },
  {
   "cell_type": "code",
   "execution_count": 1,
   "id": "eligible-disorder",
   "metadata": {},
   "outputs": [
    {
     "name": "stdout",
     "output_type": "stream",
     "text": [
      "Requirement already satisfied: alice_blue in c:\\users\\admin\\anaconda3\\envs\\tensorflow\\lib\\site-packages (1.0.1)\n",
      "Requirement already satisfied: bs4 in c:\\users\\admin\\anaconda3\\envs\\tensorflow\\lib\\site-packages (from alice_blue) (0.0.1)\n",
      "Requirement already satisfied: requests in c:\\users\\admin\\anaconda3\\envs\\tensorflow\\lib\\site-packages (from alice_blue) (2.25.1)\n",
      "Requirement already satisfied: protlib in c:\\users\\admin\\anaconda3\\envs\\tensorflow\\lib\\site-packages (from alice_blue) (1.4)\n",
      "Requirement already satisfied: websocket-client in c:\\users\\admin\\anaconda3\\envs\\tensorflow\\lib\\site-packages (from alice_blue) (0.58.0)\n",
      "Requirement already satisfied: beautifulsoup4 in c:\\users\\admin\\anaconda3\\envs\\tensorflow\\lib\\site-packages (from bs4->alice_blue) (4.9.3)\n",
      "Requirement already satisfied: soupsieve>1.2 in c:\\users\\admin\\anaconda3\\envs\\tensorflow\\lib\\site-packages (from beautifulsoup4->bs4->alice_blue) (2.2)\n",
      "Requirement already satisfied: urllib3<1.27,>=1.21.1 in c:\\users\\admin\\anaconda3\\envs\\tensorflow\\lib\\site-packages (from requests->alice_blue) (1.26.3)\n",
      "Requirement already satisfied: idna<3,>=2.5 in c:\\users\\admin\\anaconda3\\envs\\tensorflow\\lib\\site-packages (from requests->alice_blue) (2.10)\n",
      "Requirement already satisfied: chardet<5,>=3.0.2 in c:\\users\\admin\\anaconda3\\envs\\tensorflow\\lib\\site-packages (from requests->alice_blue) (3.0.4)\n",
      "Requirement already satisfied: certifi>=2017.4.17 in c:\\users\\admin\\anaconda3\\envs\\tensorflow\\lib\\site-packages (from requests->alice_blue) (2020.12.5)\n",
      "Requirement already satisfied: six in c:\\users\\admin\\anaconda3\\envs\\tensorflow\\lib\\site-packages (from websocket-client->alice_blue) (1.15.0)\n",
      "Requirement already satisfied: requests_oauthlib in c:\\users\\admin\\anaconda3\\envs\\tensorflow\\lib\\site-packages (1.3.0)\n",
      "Requirement already satisfied: requests>=2.0.0 in c:\\users\\admin\\anaconda3\\envs\\tensorflow\\lib\\site-packages (from requests_oauthlib) (2.25.1)\n",
      "Requirement already satisfied: oauthlib>=3.0.0 in c:\\users\\admin\\anaconda3\\envs\\tensorflow\\lib\\site-packages (from requests_oauthlib) (3.1.0)\n",
      "Requirement already satisfied: certifi>=2017.4.17 in c:\\users\\admin\\anaconda3\\envs\\tensorflow\\lib\\site-packages (from requests>=2.0.0->requests_oauthlib) (2020.12.5)\n",
      "Requirement already satisfied: idna<3,>=2.5 in c:\\users\\admin\\anaconda3\\envs\\tensorflow\\lib\\site-packages (from requests>=2.0.0->requests_oauthlib) (2.10)\n",
      "Requirement already satisfied: chardet<5,>=3.0.2 in c:\\users\\admin\\anaconda3\\envs\\tensorflow\\lib\\site-packages (from requests>=2.0.0->requests_oauthlib) (3.0.4)\n",
      "Requirement already satisfied: urllib3<1.27,>=1.21.1 in c:\\users\\admin\\anaconda3\\envs\\tensorflow\\lib\\site-packages (from requests>=2.0.0->requests_oauthlib) (1.26.3)\n"
     ]
    }
   ],
   "source": [
    "!pip install alice_blue\n",
    "!pip install requests_oauthlib"
   ]
  },
  {
   "cell_type": "code",
   "execution_count": 2,
   "id": "focal-limit",
   "metadata": {},
   "outputs": [],
   "source": [
    "import requests\n",
    "from requests_oauthlib import OAuth2Session\n"
   ]
  },
  {
   "cell_type": "code",
   "execution_count": 3,
   "id": "successful-stone",
   "metadata": {},
   "outputs": [
    {
     "name": "stdout",
     "output_type": "stream",
     "text": [
      "https://ant.aliceblueonline.com/oauth2/auth?response_type=code&client_id=WB198&redirect_uri=http%3A%2F%2F127.0.0.1%2F&scope=orders&state=1yQmYabqaxxmXqL2bcdMWSjAOO7ohi&access_type=authorization_code\n"
     ]
    }
   ],
   "source": [
    "web_url = 'https://ant.aliceblueonline.com'\n",
    "client_id = 'WB198'\n",
    "client_secret = 'P70XA1VAY0JX2PCM0DQXLII8CQKIU4FZSKT0LWCS1TT53H1UO3085ZWHZ2UTQMQ3'\n",
    "redirect_uri = 'http://127.0.0.1/'\n",
    "authorization_base_url = f'{web_url}/oauth2/auth'\n",
    "token_url = f'{web_url}/oauth2/token'\n",
    "scope=['orders']\n",
    "oauth = OAuth2Session(client_id, redirect_uri=redirect_uri, scope=scope)\n",
    "scope=['orders']\n",
    "oauth = OAuth2Session(client_id, redirect_uri=redirect_uri, scope=scope)\n",
    "authorization_url, _state = oauth.authorization_url(authorization_base_url, access_type=\"authorization_code\")\n",
    "\n",
    "print(authorization_url)"
   ]
  },
  {
   "cell_type": "code",
   "execution_count": 4,
   "id": "involved-alexander",
   "metadata": {},
   "outputs": [
    {
     "name": "stdout",
     "output_type": "stream",
     "text": [
      "http://127.0.0.1/?code=NjTWSTpiw6k0eGB8_nCp5NcXjEZksjIJ5YXs1OqhtyY.bVVHYWbPpSsAnGZ7cTrujTlqP15Kd43dGrHsnF0qjIM&scope=orders&state=1yQmYabqaxxmXqL2bcdMWSjAOO7ohi\n",
      "9lTbTlUBnu5QyxSwQ4yYwU6UGMTRm8xd9xvK2YZWU6Q.3jNZYHlNoXf_YO1-onePcJniU5n-jh7Q1yo96tJCNiw\n"
     ]
    }
   ],
   "source": [
    "newUrl = 'http://127.0.0.1/?code=NjTWSTpiw6k0eGB8_nCp5NcXjEZksjIJ5YXs1OqhtyY.bVVHYWbPpSsAnGZ7cTrujTlqP15Kd43dGrHsnF0qjIM&scope=orders&state=1yQmYabqaxxmXqL2bcdMWSjAOO7ohi'\n",
    "print(newUrl)\n",
    "\n",
    "authUrl = 'https' + newUrl[4:]\n",
    "\n",
    "# print(clientId.get_attribute(\"style\"))\n",
    "\n",
    "oauth = OAuth2Session(client_id, redirect_uri=redirect_uri, scope=scope)\n",
    "token = oauth.fetch_token(token_url, authorization_response=authUrl, client_secret=client_secret)\n",
    "access_token = token['access_token']\n",
    "print(access_token)"
   ]
  },
  {
   "cell_type": "code",
   "execution_count": 8,
   "id": "therapeutic-inventory",
   "metadata": {},
   "outputs": [],
   "source": [
    "from alice_blue import*"
   ]
  },
  {
   "cell_type": "code",
   "execution_count": 9,
   "id": "thrown-associate",
   "metadata": {},
   "outputs": [],
   "source": [
    "alice= AliceBlue(username ='264317',password ='ram123', access_token = access_token)"
   ]
  },
  {
   "cell_type": "code",
   "execution_count": 7,
   "id": "detailed-cambridge",
   "metadata": {},
   "outputs": [],
   "source": [
    "# Working on ONGC"
   ]
  },
  {
   "cell_type": "code",
   "execution_count": 10,
   "id": "imperial-sphere",
   "metadata": {},
   "outputs": [
    {
     "data": {
      "text/plain": [
       "['BSE', 'BFO', 'NSE', 'CDS', 'CDS', 'NFO', 'MCX']"
      ]
     },
     "execution_count": 10,
     "metadata": {},
     "output_type": "execute_result"
    }
   ],
   "source": [
    "alice.get_exchanges()"
   ]
  },
  {
   "cell_type": "code",
   "execution_count": 11,
   "id": "purple-static",
   "metadata": {},
   "outputs": [],
   "source": [
    "multiple_underlying = ['BANKNIFTY','NIFTY','INFY','BHEL']\n",
    "all_scripts = alice.search_instruments('NSE', multiple_underlying)"
   ]
  },
  {
   "cell_type": "code",
   "execution_count": 12,
   "id": "settled-mason",
   "metadata": {},
   "outputs": [
    {
     "data": {
      "text/plain": [
       "[Instrument(exchange='NSE', token=21253, symbol='AXISNIFTY BL', name='AXISAMC - AXISNIFTY', expiry=None, lot_size='999999999'),\n",
       " Instrument(exchange='NSE', token=7633, symbol='AXISNIFTY RL', name='AXISAMC - AXISNIFTY', expiry=None, lot_size='1'),\n",
       " Instrument(exchange='NSE', token=9715, symbol='BHEL AF', name='BHEL', expiry=None, lot_size='1'),\n",
       " Instrument(exchange='NSE', token=5919, symbol='BHEL BE', name='BHARAT HEAVY ELEC-DEPSET', expiry=None, lot_size='1'),\n",
       " Instrument(exchange='NSE', token=12261, symbol='BHEL BL', name='BHEL', expiry=None, lot_size='999999999'),\n",
       " Instrument(exchange='NSE', token=27509, symbol='BHEL IQ', name='BHARAT HEAVY ELECT LTD.', expiry=None, lot_size='1'),\n",
       " Instrument(exchange='NSE', token=15568, symbol='BHEL RL', name='BHEL', expiry=None, lot_size='1'),\n",
       " Instrument(exchange='NSE', token=24782, symbol='BSLNIFTY BL', name='ADITYBIRLA SL NIF ETF-GR', expiry=None, lot_size='999999999'),\n",
       " Instrument(exchange='NSE', token=17592, symbol='BSLNIFTY RL', name='ADITYBIRLA SL NIF ETF-GR', expiry=None, lot_size='1'),\n",
       " Instrument(exchange='NSE', token=9938, symbol='IBMFNIFTY BL', name='IBULLSAMC - IBMFNIFTY', expiry=None, lot_size='999999999'),\n",
       " Instrument(exchange='NSE', token=29554, symbol='ICICINIFTY BL', name='ICICI PRUD NIFTY ETF', expiry=None, lot_size='999999999'),\n",
       " Instrument(exchange='NSE', token=21202, symbol='ICICINIFTY RL', name='ICICI PRUD NIFTY ETF', expiry=None, lot_size='1'),\n",
       " Instrument(exchange='NSE', token=18784, symbol='IDFNIFTYET BL', name='IDFCAMC - IDFNIFTYET', expiry=None, lot_size='999999999'),\n",
       " Instrument(exchange='NSE', token=11113, symbol='INFY AF', name='INFOSYS LIMITED', expiry=None, lot_size='1'),\n",
       " Instrument(exchange='NSE', token=535, symbol='INFY BB', name='INFOSYS LIMITED', expiry=None, lot_size='1'),\n",
       " Instrument(exchange='NSE', token=4655, symbol='INFY BE', name='INFOSYS LIMITED', expiry=None, lot_size='1'),\n",
       " Instrument(exchange='NSE', token=12486, symbol='INFY BL', name='INFOSYS LIMITED', expiry=None, lot_size='999999999'),\n",
       " Instrument(exchange='NSE', token=27931, symbol='INFY IQ', name='INFOSYS LIMITED', expiry=None, lot_size='1'),\n",
       " Instrument(exchange='NSE', token=6390, symbol='INFY L2', name='INFOSYS LIMITED', expiry=None, lot_size='1'),\n",
       " Instrument(exchange='NSE', token=6391, symbol='INFY R2', name='INFOSYS LIMITED', expiry=None, lot_size='1'),\n",
       " Instrument(exchange='NSE', token=15937, symbol='INFY RL', name='INFOSYS LIMITED', expiry=None, lot_size='1'),\n",
       " Instrument(exchange='NSE', token=24218, symbol='IVZINNIFTY BL', name='INVESCO INDIA NIFTY ETF', expiry=None, lot_size='999999999'),\n",
       " Instrument(exchange='NSE', token=18103, symbol='KOTAKNIFTY BL', name='KOTAK NIFTY ETF', expiry=None, lot_size='999999999'),\n",
       " Instrument(exchange='NSE', token=30483, symbol='KOTAKNIFTY RL', name='KOTAK NIFTY ETF', expiry=None, lot_size='1'),\n",
       " Instrument(exchange='NSE', token=13048, symbol='NIFTYBEES BL', name='NIP IND ETF NIFTY BEES', expiry=None, lot_size='999999999'),\n",
       " Instrument(exchange='NSE', token=30485, symbol='NIFTYBEES RL', name='NIP IND ETF NIFTY BEES', expiry=None, lot_size='1'),\n",
       " Instrument(exchange='NSE', token=9060, symbol='NIFTYEES BL', name='EDELWEISS ETF - NIFTY 50', expiry=None, lot_size='999999999'),\n",
       " Instrument(exchange='NSE', token=16820, symbol='QNIFTY BL', name='QUANTUM NIFTY ETF', expiry=None, lot_size='999999999'),\n",
       " Instrument(exchange='NSE', token=9980, symbol='QNIFTY RL', name='QUANTUM NIFTY ETF', expiry=None, lot_size='1'),\n",
       " Instrument(exchange='NSE', token=26059, symbol='NIFTY Alpha 50', name='NIFTY Alpha 50', expiry=None, lot_size=None),\n",
       " Instrument(exchange='NSE', token=26011, symbol='NIFTY MIDCAP 100', name='NIFTY MIDCAP 100', expiry=None, lot_size=None),\n",
       " Instrument(exchange='NSE', token=26060, symbol='NIFTY MIDCAP 150', name='NIFTY MIDCAP 150', expiry=None, lot_size=None),\n",
       " Instrument(exchange='NSE', token=26063, symbol='NIFTY MIDSML 400', name='NIFTY MIDSML 400', expiry=None, lot_size=None),\n",
       " Instrument(exchange='NSE', token=26032, symbol='NIFTY SMLCAP 100', name='NIFTY SMLCAP 100', expiry=None, lot_size=None),\n",
       " Instrument(exchange='NSE', token=26062, symbol='NIFTY SMLCAP 250', name='NIFTY SMLCAP 250', expiry=None, lot_size=None),\n",
       " Instrument(exchange='NSE', token=26061, symbol='NIFTY SMLCAP 50', name='NIFTY SMLCAP 50', expiry=None, lot_size=None),\n",
       " Instrument(exchange='NSE', token=26057, symbol='NIFTY100 EQL Wgt', name='NIFTY100 EQL Wgt', expiry=None, lot_size=None),\n",
       " Instrument(exchange='NSE', token=26058, symbol='NIFTY100 LowVol30', name='NIFTY100 LowVol30', expiry=None, lot_size=None),\n",
       " Instrument(exchange='NSE', token=26048, symbol='NIFTY100 Qualty30', name='NIFTY100 Qualty30', expiry=None, lot_size=None),\n",
       " Instrument(exchange='NSE', token=26064, symbol='NIFTY200 QUALTY30', name='NIFTY200 QUALTY30', expiry=None, lot_size=None),\n",
       " Instrument(exchange='NSE', token=26056, symbol='NIFTY50 EQL Wgt', name='NIFTY50 EQL Wgt', expiry=None, lot_size=None),\n",
       " Instrument(exchange='NSE', token=26012, symbol='Nifty 100', name='Nifty 100', expiry=None, lot_size=None),\n",
       " Instrument(exchange='NSE', token=26033, symbol='Nifty 200', name='Nifty 200', expiry=None, lot_size=None),\n",
       " Instrument(exchange='NSE', token=26000, symbol='Nifty 50', name='Nifty 50', expiry=None, lot_size=None),\n",
       " Instrument(exchange='NSE', token=26004, symbol='Nifty 500', name='Nifty 500', expiry=None, lot_size=None),\n",
       " Instrument(exchange='NSE', token=26029, symbol='Nifty Auto', name='Nifty Auto', expiry=None, lot_size=None),\n",
       " Instrument(exchange='NSE', token=26009, symbol='Nifty Bank', name='Nifty Bank', expiry=None, lot_size=None),\n",
       " Instrument(exchange='NSE', token=26041, symbol='Nifty CPSE', name='Nifty CPSE', expiry=None, lot_size=None),\n",
       " Instrument(exchange='NSE', token=26035, symbol='Nifty Commodities', name='Nifty Commodities', expiry=None, lot_size=None),\n",
       " Instrument(exchange='NSE', token=26036, symbol='Nifty Consumption', name='Nifty Consumption', expiry=None, lot_size=None),\n",
       " Instrument(exchange='NSE', token=26034, symbol='Nifty Div Opps 50', name='Nifty Div Opps 50', expiry=None, lot_size=None),\n",
       " Instrument(exchange='NSE', token=26020, symbol='Nifty Energy', name='Nifty Energy', expiry=None, lot_size=None),\n",
       " Instrument(exchange='NSE', token=26021, symbol='Nifty FMCG', name='Nifty FMCG', expiry=None, lot_size=None),\n",
       " Instrument(exchange='NSE', token=26037, symbol='Nifty Fin Service', name='Nifty Fin Service', expiry=None, lot_size=None),\n",
       " Instrument(exchange='NSE', token=26050, symbol='Nifty GS 10Yr', name='Nifty GS 10Yr', expiry=None, lot_size=None),\n",
       " Instrument(exchange='NSE', token=26051, symbol='Nifty GS 10Yr Cln', name='Nifty GS 10Yr Cln', expiry=None, lot_size=None),\n",
       " Instrument(exchange='NSE', token=26053, symbol='Nifty GS 11 15Yr', name='Nifty GS 11 15Yr', expiry=None, lot_size=None),\n",
       " Instrument(exchange='NSE', token=26054, symbol='Nifty GS 15YrPlus', name='Nifty GS 15YrPlus', expiry=None, lot_size=None),\n",
       " Instrument(exchange='NSE', token=26052, symbol='Nifty GS 4 8Yr', name='Nifty GS 4 8Yr', expiry=None, lot_size=None),\n",
       " Instrument(exchange='NSE', token=26049, symbol='Nifty GS 8 13Yr', name='Nifty GS 8 13Yr', expiry=None, lot_size=None),\n",
       " Instrument(exchange='NSE', token=26055, symbol='Nifty GS Compsite', name='Nifty GS Compsite', expiry=None, lot_size=None),\n",
       " Instrument(exchange='NSE', token=26001, symbol='Nifty GrowSect 15', name='Nifty GrowSect 15', expiry=None, lot_size=None),\n",
       " Instrument(exchange='NSE', token=26008, symbol='Nifty IT', name='Nifty IT', expiry=None, lot_size=None),\n",
       " Instrument(exchange='NSE', token=26019, symbol='Nifty Infra', name='Nifty Infra', expiry=None, lot_size=None),\n",
       " Instrument(exchange='NSE', token=26022, symbol='Nifty MNC', name='Nifty MNC', expiry=None, lot_size=None),\n",
       " Instrument(exchange='NSE', token=26031, symbol='Nifty Media', name='Nifty Media', expiry=None, lot_size=None),\n",
       " Instrument(exchange='NSE', token=26030, symbol='Nifty Metal', name='Nifty Metal', expiry=None, lot_size=None),\n",
       " Instrument(exchange='NSE', token=26046, symbol='Nifty Mid Liq 15', name='Nifty Mid Liq 15', expiry=None, lot_size=None),\n",
       " Instrument(exchange='NSE', token=26014, symbol='Nifty Midcap 50', name='Nifty Midcap 50', expiry=None, lot_size=None),\n",
       " Instrument(exchange='NSE', token=26013, symbol='Nifty Next 50', name='Nifty Next 50', expiry=None, lot_size=None),\n",
       " Instrument(exchange='NSE', token=26024, symbol='Nifty PSE', name='Nifty PSE', expiry=None, lot_size=None),\n",
       " Instrument(exchange='NSE', token=26025, symbol='Nifty PSU Bank', name='Nifty PSU Bank', expiry=None, lot_size=None),\n",
       " Instrument(exchange='NSE', token=26023, symbol='Nifty Pharma', name='Nifty Pharma', expiry=None, lot_size=None),\n",
       " Instrument(exchange='NSE', token=26047, symbol='Nifty Pvt Bank', name='Nifty Pvt Bank', expiry=None, lot_size=None),\n",
       " Instrument(exchange='NSE', token=26018, symbol='Nifty Realty', name='Nifty Realty', expiry=None, lot_size=None),\n",
       " Instrument(exchange='NSE', token=26026, symbol='Nifty Serv Sector', name='Nifty Serv Sector', expiry=None, lot_size=None),\n",
       " Instrument(exchange='NSE', token=26040, symbol='Nifty100 Liq 15', name='Nifty100 Liq 15', expiry=None, lot_size=None),\n",
       " Instrument(exchange='NSE', token=26038, symbol='Nifty50 Div Point', name='Nifty50 Div Point', expiry=None, lot_size=None),\n",
       " Instrument(exchange='NSE', token=26042, symbol='Nifty50 PR 1x Inv', name='Nifty50 PR 1x Inv', expiry=None, lot_size=None),\n",
       " Instrument(exchange='NSE', token=26002, symbol='Nifty50 PR 2x Lev', name='Nifty50 PR 2x Lev', expiry=None, lot_size=None),\n",
       " Instrument(exchange='NSE', token=26044, symbol='Nifty50 TR 1x Inv', name='Nifty50 TR 1x Inv', expiry=None, lot_size=None),\n",
       " Instrument(exchange='NSE', token=26043, symbol='Nifty50 TR 2x Lev', name='Nifty50 TR 2x Lev', expiry=None, lot_size=None),\n",
       " Instrument(exchange='NSE', token=26045, symbol='Nifty50 Value 20', name='Nifty50 Value 20', expiry=None, lot_size=None),\n",
       " Instrument(exchange='NSE', token=21252, symbol='AXISNIFTY', name='AXISAMC - AXISNIFTY', expiry=None, lot_size=None),\n",
       " Instrument(exchange='NSE', token=438, symbol='BHEL', name='BHEL', expiry=None, lot_size=None),\n",
       " Instrument(exchange='NSE', token=24781, symbol='BSLNIFTY', name='ADITYBIRLA SL NIF ETF-GR', expiry=None, lot_size=None),\n",
       " Instrument(exchange='NSE', token=9937, symbol='IBMFNIFTY', name='IBULLSAMC - IBMFNIFTY', expiry=None, lot_size=None),\n",
       " Instrument(exchange='NSE', token=29553, symbol='ICICINIFTY', name='ICICI PRUD NIFTY ETF', expiry=None, lot_size=None),\n",
       " Instrument(exchange='NSE', token=18783, symbol='IDFNIFTYET', name='IDFCAMC - IDFNIFTYET', expiry=None, lot_size=None),\n",
       " Instrument(exchange='NSE', token=1594, symbol='INFY', name='INFOSYS LIMITED', expiry=None, lot_size=None),\n",
       " Instrument(exchange='NSE', token=24217, symbol='IVZINNIFTY', name='INVESCO INDIA NIFTY ETF', expiry=None, lot_size=None),\n",
       " Instrument(exchange='NSE', token=18102, symbol='KOTAKNIFTY', name='KOTAK NIFTY ETF', expiry=None, lot_size=None),\n",
       " Instrument(exchange='NSE', token=10576, symbol='NIFTYBEES', name='NIP IND ETF NIFTY BEES', expiry=None, lot_size=None),\n",
       " Instrument(exchange='NSE', token=30116, symbol='NIFTYBENAV', name='NIFTY BEES NAV', expiry=None, lot_size=None),\n",
       " Instrument(exchange='NSE', token=9059, symbol='NIFTYEES', name='EDELWEISS ETF - NIFTY 50', expiry=None, lot_size=None),\n",
       " Instrument(exchange='NSE', token=16819, symbol='QNIFTY', name='QUANTUM NIFTY ETF', expiry=None, lot_size=None),\n",
       " Instrument(exchange='NSE', token=18073, symbol='RENIFTYNAV', name='RELCAPAMC - RELNIFTY', expiry=None, lot_size=None)]"
      ]
     },
     "execution_count": 12,
     "metadata": {},
     "output_type": "execute_result"
    }
   ],
   "source": [
    "all_scripts"
   ]
  },
  {
   "cell_type": "code",
   "execution_count": 13,
   "id": "exterior-discretion",
   "metadata": {},
   "outputs": [],
   "source": [
    "ongc_nse_index = alice.get_instrument_by_symbol('NSE', 'ONGC')"
   ]
  },
  {
   "cell_type": "code",
   "execution_count": 14,
   "id": "plastic-macro",
   "metadata": {},
   "outputs": [
    {
     "data": {
      "text/plain": [
       "Instrument(exchange='NSE', token=2475, symbol='ONGC', name='OIL AND NATURAL GAS CORP.', expiry=None, lot_size=None)"
      ]
     },
     "execution_count": 14,
     "metadata": {},
     "output_type": "execute_result"
    }
   ],
   "source": [
    "ongc_nse_index "
   ]
  },
  {
   "cell_type": "code",
   "execution_count": 15,
   "id": "difficult-entrance",
   "metadata": {},
   "outputs": [
    {
     "name": "stdout",
     "output_type": "stream",
     "text": [
      "quote update {'exchange': 'NSE', 'token': 2475, 'ltp': 109.3, 'ltt': 0, 'ltq': 0, 'volume': 0, 'best_bid_price': 0.0, 'best_bid_quantity': 0, 'best_ask_price': 0.0, 'best_ask_quantity': 0, 'total_buy_quantity': 0, 'total_sell_quantity': 0, 'atp': 21474836.48, 'exchange_time_stamp': 0, 'open': 102.0, 'high': 120.0, 'low': 93.45, 'close': 109.3, 'yearly_high': 122.35, 'yearly_low': 60.8, 'instrument': Instrument(exchange='NSE', token=2475, symbol='ONGC', name='OIL AND NATURAL GAS CORP.', expiry=None, lot_size=None)}\n"
     ]
    }
   ],
   "source": [
    "import time\n",
    "#time.sleep()\n",
    "\n",
    "socket_opened = False\n",
    "def event_handler_quote_update(message):\n",
    "    print(f\"quote update {message}\")\n",
    "\n",
    "def open_callback():\n",
    "    global socket_opened\n",
    "    socket_opened = True\n",
    "\n",
    "alice.start_websocket(subscribe_callback=event_handler_quote_update,\n",
    "                      socket_open_callback=open_callback,\n",
    "                      run_in_background=True)\n",
    "while(socket_opened==False):\n",
    "    pass\n",
    "alice.subscribe(alice.get_instrument_by_symbol('NSE', 'ONGC'), LiveFeedType.MARKET_DATA)\n",
    "time.sleep(10)"
   ]
  },
  {
   "cell_type": "code",
   "execution_count": 16,
   "id": "regulation-syracuse",
   "metadata": {},
   "outputs": [],
   "source": [
    "alice.subscribe(alice.get_instrument_by_symbol('NSE', 'ONGC'), LiveFeedType.MARKET_DATA)\n",
    "#alice.subscribe(alice.get_instrument_by_symbol('NSE', 'LUPIN-EQ'), LiveFeedType.COMPACT)#"
   ]
  },
  {
   "cell_type": "code",
   "execution_count": 17,
   "id": "functional-girlfriend",
   "metadata": {},
   "outputs": [
    {
     "name": "stdout",
     "output_type": "stream",
     "text": [
      "%%%%%%%%%%%%%%%%%%%%%%%%%%%%1%%%%%%%%%%%%%%%%%%%%%%%%%%%%%\n",
      "{'status': 'success', 'message': 'Order placed successfully', 'data': {'oms_order_id': '210411000000726'}}\n",
      "%%%%%%%%%%%%%%%%%%%%%%%%%%%%2%%%%%%%%%%%%%%%%%%%%%%%%%%%%%\n"
     ]
    }
   ],
   "source": [
    "\n",
    "# TransactionType.Buy, OrderType.Market, ProductType.Delivery\n",
    "\n",
    "print (\"%%%%%%%%%%%%%%%%%%%%%%%%%%%%1%%%%%%%%%%%%%%%%%%%%%%%%%%%%%\")\n",
    "print(\n",
    "   alice.place_order(transaction_type = TransactionType.Buy,\n",
    "                     instrument = alice.get_instrument_by_symbol('NSE', 'INFY'),\n",
    "                     quantity = 1,\n",
    "                     order_type = OrderType.Market,\n",
    "                     product_type = ProductType.Delivery,\n",
    "                     price = 0.0,\n",
    "                     trigger_price = None,\n",
    "                     stop_loss = None,\n",
    "                     square_off = None,\n",
    "                     trailing_sl = None,\n",
    "                     is_amo = False)\n",
    "   )\n",
    "\n",
    "print (\"%%%%%%%%%%%%%%%%%%%%%%%%%%%%2%%%%%%%%%%%%%%%%%%%%%%%%%%%%%\")"
   ]
  },
  {
   "cell_type": "code",
   "execution_count": 18,
   "id": "continental-syntax",
   "metadata": {},
   "outputs": [
    {
     "name": "stdout",
     "output_type": "stream",
     "text": [
      "%%%%%%%%%%%%%%%%%%%%%%%%%%%%6%%%%%%%%%%%%%%%%%%%%%%%%%%%%%\n",
      "{'status': 'success', 'message': 'Order placed successfully', 'data': {'oms_order_id': '210411000000727'}}\n"
     ]
    }
   ],
   "source": [
    "print (\"%%%%%%%%%%%%%%%%%%%%%%%%%%%%6%%%%%%%%%%%%%%%%%%%%%%%%%%%%%\")\n",
    "print(\n",
    "   alice.place_order(transaction_type = TransactionType.Buy,\n",
    "                     instrument = alice.get_instrument_by_symbol('NSE', 'INFY'),\n",
    "                     quantity = 1,\n",
    "                     order_type = OrderType.Limit,\n",
    "                     product_type = ProductType.CoverOrder,\n",
    "                     price = 7.0,\n",
    "                     trigger_price = 6.5, # trigger_price Here the trigger_price is taken as stop loss (provide stop loss in actual amount)\n",
    "                     stop_loss = None,\n",
    "                     square_off = None,\n",
    "                     trailing_sl = None,\n",
    "                     is_amo = False)\n",
    ")\n"
   ]
  },
  {
   "cell_type": "code",
   "execution_count": null,
   "id": "preceding-glossary",
   "metadata": {},
   "outputs": [],
   "source": []
  },
  {
   "cell_type": "code",
   "execution_count": null,
   "id": "dirty-checkout",
   "metadata": {},
   "outputs": [],
   "source": []
  },
  {
   "cell_type": "code",
   "execution_count": null,
   "id": "chicken-mumbai",
   "metadata": {},
   "outputs": [],
   "source": []
  },
  {
   "cell_type": "code",
   "execution_count": null,
   "id": "every-southwest",
   "metadata": {},
   "outputs": [],
   "source": [
    "alice.get_balance()"
   ]
  },
  {
   "cell_type": "code",
   "execution_count": null,
   "id": "geographic-holocaust",
   "metadata": {},
   "outputs": [],
   "source": [
    "alice.get_exchanges()"
   ]
  },
  {
   "cell_type": "code",
   "execution_count": null,
   "id": "original-groove",
   "metadata": {},
   "outputs": [],
   "source": [
    "alice.cancel_all_orders()"
   ]
  },
  {
   "cell_type": "code",
   "execution_count": null,
   "id": "mental-hybrid",
   "metadata": {},
   "outputs": [],
   "source": [
    "alice.get_balance()"
   ]
  },
  {
   "cell_type": "code",
   "execution_count": null,
   "id": "practical-portland",
   "metadata": {},
   "outputs": [],
   "source": [
    "alice.get_exchanges()"
   ]
  },
  {
   "cell_type": "code",
   "execution_count": null,
   "id": "mathematical-operations",
   "metadata": {},
   "outputs": [],
   "source": [
    "alice.get_trades()"
   ]
  },
  {
   "cell_type": "code",
   "execution_count": null,
   "id": "black-reconstruction",
   "metadata": {},
   "outputs": [],
   "source": [
    "print(alice.get_balance()) # get balance / margin limits\n"
   ]
  },
  {
   "cell_type": "code",
   "execution_count": null,
   "id": "duplicate-relation",
   "metadata": {},
   "outputs": [],
   "source": [
    "print(alice.get_profile()) # get profile\n"
   ]
  },
  {
   "cell_type": "code",
   "execution_count": null,
   "id": "interstate-logan",
   "metadata": {},
   "outputs": [],
   "source": [
    "print(alice.get_daywise_positions()) # get daywise positions\n"
   ]
  },
  {
   "cell_type": "code",
   "execution_count": null,
   "id": "higher-matrix",
   "metadata": {},
   "outputs": [],
   "source": [
    "print(alice.get_netwise_positions()) # get netwise positions\n"
   ]
  },
  {
   "cell_type": "code",
   "execution_count": null,
   "id": "temporal-strand",
   "metadata": {},
   "outputs": [],
   "source": [
    "print(alice.get_holding_positions()) # get holding positions"
   ]
  },
  {
   "cell_type": "code",
   "execution_count": null,
   "id": "norman-concept",
   "metadata": {},
   "outputs": [],
   "source": [
    "alice.get_trade_book()"
   ]
  },
  {
   "cell_type": "code",
   "execution_count": null,
   "id": "quantitative-place",
   "metadata": {},
   "outputs": [],
   "source": [
    "alice.get_scrip_info(self, 'ADANIENT.NSE')"
   ]
  },
  {
   "cell_type": "code",
   "execution_count": null,
   "id": "serious-acoustic",
   "metadata": {},
   "outputs": [],
   "source": [
    "alice.get_order_history()"
   ]
  },
  {
   "cell_type": "code",
   "execution_count": null,
   "id": "incorrect-gender",
   "metadata": {},
   "outputs": [],
   "source": [
    "tatasteel_nse_eq = alice.get_instrument_by_symbol('NSE', 'TATASTEEL')"
   ]
  },
  {
   "cell_type": "code",
   "execution_count": null,
   "id": "occupied-executive",
   "metadata": {},
   "outputs": [],
   "source": [
    "tatasteel_nse_eq"
   ]
  },
  {
   "cell_type": "code",
   "execution_count": null,
   "id": "indonesian-spank",
   "metadata": {},
   "outputs": [],
   "source": [
    "reliance_nse_eq = alice.get_instrument_by_symbol('NSE', 'RELIANCE')"
   ]
  },
  {
   "cell_type": "code",
   "execution_count": null,
   "id": "interracial-boost",
   "metadata": {},
   "outputs": [],
   "source": [
    "reliance_nse_eq"
   ]
  },
  {
   "cell_type": "code",
   "execution_count": null,
   "id": "framed-explorer",
   "metadata": {},
   "outputs": [],
   "source": [
    "itc_nse_eq = alice.get_instrument_by_symbol('NSE', 'ITC')"
   ]
  },
  {
   "cell_type": "code",
   "execution_count": null,
   "id": "guilty-database",
   "metadata": {},
   "outputs": [],
   "source": [
    "itc_nse_eq"
   ]
  },
  {
   "cell_type": "code",
   "execution_count": null,
   "id": "south-balance",
   "metadata": {},
   "outputs": [],
   "source": [
    "india_vix_nse_index = alice.get_instrument_by_symbol('NSE', 'India VIX')"
   ]
  },
  {
   "cell_type": "code",
   "execution_count": null,
   "id": "restricted-haiti",
   "metadata": {},
   "outputs": [],
   "source": [
    "india_vix_nse_index"
   ]
  },
  {
   "cell_type": "code",
   "execution_count": null,
   "id": "intimate-change",
   "metadata": {},
   "outputs": [],
   "source": [
    "sensex_bse_index = alice.get_instrument_by_symbol('BSE', 'SENSEX')"
   ]
  },
  {
   "cell_type": "code",
   "execution_count": null,
   "id": "irish-freight",
   "metadata": {},
   "outputs": [],
   "source": [
    "sensex_bse_index"
   ]
  },
  {
   "cell_type": "code",
   "execution_count": null,
   "id": "superb-colleague",
   "metadata": {},
   "outputs": [],
   "source": [
    "alice = AliceBlue(username='264317', password='ram123', access_token=access_token, master_contracts_to_download=['NSE', 'BSE'])"
   ]
  },
  {
   "cell_type": "code",
   "execution_count": null,
   "id": "pediatric-tongue",
   "metadata": {},
   "outputs": [],
   "source": [
    "#Get a single instrument by it's token number (generally useful only for BSE Equities):\n",
    "\n",
    "ongc_bse_eq = alice.get_instrument_by_token('BSE', 500312)"
   ]
  },
  {
   "cell_type": "code",
   "execution_count": null,
   "id": "responsible-surge",
   "metadata": {},
   "outputs": [],
   "source": [
    "ongc_bse_eq"
   ]
  },
  {
   "cell_type": "code",
   "execution_count": null,
   "id": "elder-inventory",
   "metadata": {},
   "outputs": [],
   "source": [
    "reliance_bse_eq = alice.get_instrument_by_token('BSE', 500325)"
   ]
  },
  {
   "cell_type": "code",
   "execution_count": null,
   "id": "durable-chemistry",
   "metadata": {},
   "outputs": [],
   "source": [
    "reliance_bse_eq"
   ]
  },
  {
   "cell_type": "code",
   "execution_count": null,
   "id": "checked-sigma",
   "metadata": {},
   "outputs": [],
   "source": [
    "acc_nse_eq = alice.get_instrument_by_token('NSE', 22)"
   ]
  },
  {
   "cell_type": "code",
   "execution_count": null,
   "id": "prospective-hotel",
   "metadata": {},
   "outputs": [],
   "source": [
    "acc_nse_eq"
   ]
  },
  {
   "cell_type": "code",
   "execution_count": null,
   "id": "blank-eleven",
   "metadata": {},
   "outputs": [],
   "source": [
    "multiple_underlying = ['BANKNIFTY','NIFTY','INFY','BHEL']\n",
    "all_scripts = alice.search_instruments('NSE', multiple_underlying)"
   ]
  },
  {
   "cell_type": "code",
   "execution_count": null,
   "id": "encouraging-recipient",
   "metadata": {},
   "outputs": [],
   "source": [
    "all_scripts"
   ]
  },
  {
   "cell_type": "code",
   "execution_count": null,
   "id": "still-clock",
   "metadata": {},
   "outputs": [],
   "source": [
    "#multiple_underlying = ['BANKNIFTY','NIFTY','INFY','BHEL']\n",
    "all_scripts = alice.search_instruments('BSE', multiple_underlying)"
   ]
  },
  {
   "cell_type": "code",
   "execution_count": null,
   "id": "tough-basics",
   "metadata": {},
   "outputs": [],
   "source": [
    "multiple_underlying = ['NIFTY','INFY','BHEL']\n",
    "all_scripts = alice.search_instruments('NSE', multiple_underlying)"
   ]
  },
  {
   "cell_type": "code",
   "execution_count": null,
   "id": "armed-young",
   "metadata": {},
   "outputs": [],
   "source": [
    "all_scripts"
   ]
  },
  {
   "cell_type": "code",
   "execution_count": null,
   "id": "little-siemens",
   "metadata": {},
   "outputs": [],
   "source": [
    "Instrument = namedtuple('Instrument', ['exchange', 'token', 'symbol',\n",
    "                                      'name', 'expiry', 'lot_size'])"
   ]
  },
  {
   "cell_type": "code",
   "execution_count": null,
   "id": "increasing-malpractice",
   "metadata": {},
   "outputs": [],
   "source": [
    "Instrument = namedtuple('ADANIENT', ['exchange', 'token', 'symbol',\n",
    "                                      'name', 'expiry', 'lot_size'])"
   ]
  },
  {
   "cell_type": "code",
   "execution_count": null,
   "id": "biblical-professional",
   "metadata": {},
   "outputs": [],
   "source": [
    "#Get All Subscribed Symbols\n",
    "alice.get_all_subscriptions() # All\n"
   ]
  },
  {
   "cell_type": "code",
   "execution_count": null,
   "id": "organizational-coffee",
   "metadata": {},
   "outputs": [],
   "source": [
    "#import dates\n",
    "socket_opened = False\n",
    "def event_handler_quote_update(message):\n",
    "    print(f\"quote update {message}\")\n",
    "\n",
    "def open_callback():\n",
    "    global socket_opened\n",
    "    socket_opened = True\n",
    "\n",
    "alice.start_websocket(subscribe_callback=event_handler_quote_update,\n",
    "                      socket_open_callback=open_callback,\n",
    "                      run_in_background=True)\n",
    "while(socket_opened==False):\n",
    "    pass\n",
    "alice.subscribe(alice.get_instrument_by_symbol('NSE', 'ONGC'), LiveFeedType.MARKET_DATA)\n",
    "sleep(10)"
   ]
  },
  {
   "cell_type": "code",
   "execution_count": null,
   "id": "limiting-catering",
   "metadata": {},
   "outputs": [],
   "source": []
  },
  {
   "cell_type": "code",
   "execution_count": null,
   "id": "executed-competition",
   "metadata": {},
   "outputs": [],
   "source": [
    "#Unsubscribe to a live feed\n",
    "#Unsubscribe to an existing live feed\n",
    "\n",
    "alice.subscribe(alice.get_instrument_by_symbol('NSE', 'BANKNIFTY'), LiveFeedType.MARKET_DATA)\n",
    "alice.subscribe(alice.get_instrument_by_symbol('NSE', 'LUPIN-EQ'), LiveFeedType.COMPACT)#"
   ]
  },
  {
   "cell_type": "code",
   "execution_count": null,
   "id": "negative-barbados",
   "metadata": {},
   "outputs": [],
   "source": [
    "#Subscribe to a live feed\n",
    "#Subscribe to an existing live feed\n",
    "\n",
    "alice.subscribe(alice.get_instrument_by_symbol('NSE', 'TATASTEEL'), LiveFeedType.MARKET_DATA)\n",
    "alice.subscribe(alice.get_instrument_by_symbol('BSE', 'RELIANCE'), LiveFeedType.COMPACT)#"
   ]
  },
  {
   "cell_type": "code",
   "execution_count": null,
   "id": "ordinary-attempt",
   "metadata": {},
   "outputs": [],
   "source": [
    "alice.unsubscribe([alice.get_instrument_by_symbol('NSE', 'TATASTEEL'), alice.get_instrument_by_symbol('NSE', 'ACC')], LiveFeedType.MARKET_DATA)"
   ]
  },
  {
   "cell_type": "code",
   "execution_count": null,
   "id": "dying-labor",
   "metadata": {},
   "outputs": [],
   "source": [
    "# Subscribe to market status messages\n",
    "alice.subscribe_market_status_messages()"
   ]
  },
  {
   "cell_type": "code",
   "execution_count": null,
   "id": "european-coordinator",
   "metadata": {},
   "outputs": [],
   "source": [
    "#Getting market status messages.\n",
    "\n",
    "print(alice.get_market_status_messages())"
   ]
  },
  {
   "cell_type": "code",
   "execution_count": null,
   "id": "lasting-florence",
   "metadata": {},
   "outputs": [],
   "source": [
    "#Example result of get_market_status_messages()\n",
    "\n",
    "[{'exchange': 'NSE', 'length_of_market_type': 6, 'market_type': b'NORMAL', 'length_of_status': 31, 'status': b'The Closing Session has closed.'}, {'exchange': 'NFO', 'length_of_market_type': 6, 'market_type': b'NORMAL', 'length_of_status': 45, 'status': b'The Normal market has closed for 22 MAY 2020.'}, {'exchange': 'CDS', 'length_of_market_type': 6, 'market_type': b'NORMAL', 'length_of_status': 45, 'status': b'The Normal market has closed for 22 MAY 2020.'}, {'exchange': 'BSE', 'length_of_market_type': 13, 'market_type': b'OTHER SESSION', 'length_of_status': 0, 'status': b''}]\n"
   ]
  },
  {
   "cell_type": "code",
   "execution_count": null,
   "id": "mathematical-store",
   "metadata": {},
   "outputs": [],
   "source": [
    "print(alice.get_balance()) # get balance / margin limits\n",
    "#print(alice.get_profile()) # get profile\n",
    "#print(alice.get_daywise_positions()) # get daywise positions\n",
    "#print(alice.get_netwise_positions()) # get netwise positions\n",
    "#print(alice.get_holding_positions()) # get holding positions"
   ]
  },
  {
   "cell_type": "code",
   "execution_count": null,
   "id": "naval-masters",
   "metadata": {},
   "outputs": [],
   "source": [
    "#print(alice.get_balance()) # get balance / margin limits\n",
    "print(alice.get_profile()) # get profile\n",
    "#print(alice.get_daywise_positions()) # get daywise positions\n",
    "#print(alice.get_netwise_positions()) # get netwise positions\n",
    "#print(alice.get_holding_positions()) # get holding positions"
   ]
  },
  {
   "cell_type": "code",
   "execution_count": null,
   "id": "powerful-dance",
   "metadata": {},
   "outputs": [],
   "source": [
    "print(alice.get_holding_positions()) # get holding positions"
   ]
  },
  {
   "cell_type": "code",
   "execution_count": null,
   "id": "underlying-corps",
   "metadata": {},
   "outputs": [],
   "source": [
    "alice.get_all_subcriptions()"
   ]
  },
  {
   "cell_type": "code",
   "execution_count": null,
   "id": "automatic-toronto",
   "metadata": {},
   "outputs": [],
   "source": [
    "nse_Lupin = alice.get_instrument_by_symbol('NSE', 'LUPIN')\n",
    "nse_Lupin \n"
   ]
  },
  {
   "cell_type": "code",
   "execution_count": null,
   "id": "architectural-montana",
   "metadata": {},
   "outputs": [],
   "source": [
    "#Get FNO instruments easily by mentioning expiry, strike & call or put.\n",
    "\n",
    "bn_fut = alice.get_instrument_for_fno(symbol = 'BANKNIFTY', expiry_date=datetime.date(2019, 6, 27), is_fut=True, strike=None, is_CE = False)\n",
    "bn_call = alice.get_instrument_for_fno(symbol = 'BANKNIFTY', expiry_date=datetime.date(2019, 6, 27), is_fut=False, strike=30000, is_CE = True)\n",
    "bn_put = alice.get_instrument_for_fno(symbol = 'BANKNIFTY', expiry_date=datetime.date(2019, 6, 27), is_fut=False, strike=30000, is_CE = False)"
   ]
  },
  {
   "cell_type": "code",
   "execution_count": null,
   "id": "respiratory-sunrise",
   "metadata": {},
   "outputs": [],
   "source": [
    "#Search for symbols.Search for multiple instruments by matching the name. This works case insensitive and returns all \n",
    "#instrument which has the name in its symbol.\n",
    "# The above code results multiple symbol which has 'sensex' in its symbol.\n",
    "all_sensex_scrips = alice.search_instruments('BSE', 'sEnSeX')\n",
    "print(all_sensex_scrips)"
   ]
  },
  {
   "cell_type": "code",
   "execution_count": null,
   "id": "sharp-narrative",
   "metadata": {},
   "outputs": [],
   "source": [
    "[Instrument(exchange='BSE', token=1, symbol='SENSEX', name='SENSEX', expiry=None, lot_size=None), Instrument(exchange='BSE', token=540154, symbol='IDFSENSEXE B', name='IDFC Mutual Fund', expiry=None, lot_size=None), Instrument(exchange='BSE', token=532985, symbol='KTKSENSEX B', name='KOTAK MAHINDRA MUTUAL FUND', expiry=None, lot_size=None), Instrument(exchange='BSE', token=538683, symbol='NETFSENSEX B', name='NIPPON INDIA ETF SENSEX', expiry=None, lot_size=None), Instrument(exchange='BSE', token=535276, symbol='SBISENSEX B', name='SBI MUTUAL FUND - SBI ETF SENS', expiry=None, lot_size=None)]\n",
    "#Search for multiple instruments by matching multiple names"
   ]
  },
  {
   "cell_type": "code",
   "execution_count": null,
   "id": "executed-essence",
   "metadata": {},
   "outputs": [],
   "source": [
    "multiple_underlying = ['BANKNIFTY','NIFTY','INFY','BHEL']\n",
    "all_scripts = alice.search_instruments('NFO', multiple_underlying)"
   ]
  },
  {
   "cell_type": "code",
   "execution_count": null,
   "id": "sharing-yesterday",
   "metadata": {},
   "outputs": [],
   "source": [
    "alice.subscribe(alice.get_instrument_by_symbol('NSE', 'TATASTEEL'), LiveFeedType.MARKET_DATA)\n",
    "alice.subscribe(alice.get_instrument_by_symbol('BSE', 'RELIANCE'), LiveFeedType.COMPACT)"
   ]
  },
  {
   "cell_type": "code",
   "execution_count": null,
   "id": "committed-holly",
   "metadata": {},
   "outputs": [],
   "source": [
    "#Subscribe to multiple instruments in a single call. Give an array of instruments to be subscribed.\n",
    "\n",
    "alice.subscribe([alice.get_instrument_by_symbol('NSE', 'SBIN'), alice.get_instrument_by_symbol('NSE', 'LUPIN')], LiveFeedType.MARKET_DATA)"
   ]
  },
  {
   "cell_type": "code",
   "execution_count": null,
   "id": "inside-reset",
   "metadata": {},
   "outputs": [],
   "source": [
    "socket_opened = False\n",
    "def event_handler_quote_update(message):\n",
    "    print(f\"quote update {message}\")\n",
    "\n",
    "def open_callback():\n",
    "    global socket_opened\n",
    "    socket_opened = True\n",
    "\n",
    "alice.start_websocket(subscribe_callback=event_handler_quote_update,\n",
    "                      socket_open_callback=open_callback,\n",
    "                      run_in_background=True)\n",
    "while(socket_opened==False):\n",
    "    pass\n",
    "alice.subscribe(alice.get_instrument_by_symbol('NSE', 'LUPIN'), LiveFeedType.MARKET_DATA)\n",
    "sleep(10)"
   ]
  },
  {
   "cell_type": "code",
   "execution_count": null,
   "id": "convenient-delaware",
   "metadata": {},
   "outputs": [],
   "source": [
    "#Get All Subscribed Symbols\n",
    "alice.get_all_subscriptions() # All"
   ]
  },
  {
   "cell_type": "code",
   "execution_count": null,
   "id": "informed-algorithm",
   "metadata": {},
   "outputs": [],
   "source": [
    "#Getting market status messages.\n",
    "\n",
    "print(alice.get_exchange_messages())"
   ]
  },
  {
   "cell_type": "code",
   "execution_count": null,
   "id": "national-cycling",
   "metadata": {},
   "outputs": [],
   "source": [
    "\n",
    "# TransactionType.Buy, OrderType.Market, ProductType.Delivery\n",
    "\n",
    "print (\"%%%%%%%%%%%%%%%%%%%%%%%%%%%%1%%%%%%%%%%%%%%%%%%%%%%%%%%%%%\")\n",
    "print(\n",
    "   alice.place_order(transaction_type = TransactionType.Buy,\n",
    "                     instrument = alice.get_instrument_by_symbol('NSE', 'INFY'),\n",
    "                     quantity = 1,\n",
    "                     order_type = OrderType.Market,\n",
    "                     product_type = ProductType.Delivery,\n",
    "                     price = 0.0,\n",
    "                     trigger_price = None,\n",
    "                     stop_loss = None,\n",
    "                     square_off = None,\n",
    "                     trailing_sl = None,\n",
    "                     is_amo = False)\n",
    "   )\n",
    "\n",
    "print (\"%%%%%%%%%%%%%%%%%%%%%%%%%%%%2%%%%%%%%%%%%%%%%%%%%%%%%%%%%%\")"
   ]
  },
  {
   "cell_type": "code",
   "execution_count": null,
   "id": "plastic-oasis",
   "metadata": {},
   "outputs": [],
   "source": [
    "# TransactionType.Buy, OrderType.Market, ProductType.Intraday\n",
    "print (\"%%%%%%%%%%%%%%%%%%%%%%%%%%%%2%%%%%%%%%%%%%%%%%%%%%%%%%%%%%\")\n",
    "print(\n",
    "   alice.place_order(transaction_type = TransactionType.Buy,\n",
    "                     instrument = alice.get_instrument_by_symbol('NSE', 'INFY'),\n",
    "                     quantity = 1,\n",
    "                     order_type = OrderType.Market,\n",
    "                     product_type = ProductType.Intraday,\n",
    "                     price = 0.0,\n",
    "                     trigger_price = None,\n",
    "                     stop_loss = None,\n",
    "                     square_off = None,\n",
    "                     trailing_sl = None,\n",
    "                     is_amo = False)\n",
    ")\n",
    "\n",
    "print (\"%%%%%%%%%%%%%%%%%%%%%%%%%%%%3%%%%%%%%%%%%%%%%%%%%%%%%%%%%%\")\n",
    "print("
   ]
  },
  {
   "cell_type": "code",
   "execution_count": null,
   "id": "proof-marks",
   "metadata": {},
   "outputs": [],
   "source": []
  },
  {
   "cell_type": "code",
   "execution_count": null,
   "id": "returning-census",
   "metadata": {},
   "outputs": [],
   "source": [
    "print (alice.get_profile())\n",
    "\n",
    "# TransactionType.Buy, OrderType.Market, ProductType.Delivery\n",
    "\n",
    "print (\"%%%%%%%%%%%%%%%%%%%%%%%%%%%%1%%%%%%%%%%%%%%%%%%%%%%%%%%%%%\")\n",
    "print(\n",
    "   alice.place_order(transaction_type = TransactionType.Buy,\n",
    "                     instrument = alice.get_instrument_by_symbol('NSE', 'INFY'),\n",
    "                     quantity = 1,\n",
    "                     order_type = OrderType.Market,\n",
    "                     product_type = ProductType.Delivery,\n",
    "                     price = 0.0,\n",
    "                     trigger_price = None,\n",
    "                     stop_loss = None,\n",
    "                     square_off = None,\n",
    "                     trailing_sl = None,\n",
    "                     is_amo = False)\n",
    "   )\n",
    "\n",
    "# TransactionType.Buy, OrderType.Market, ProductType.Intraday\n",
    "\n",
    "print (\"%%%%%%%%%%%%%%%%%%%%%%%%%%%%2%%%%%%%%%%%%%%%%%%%%%%%%%%%%%\")\n",
    "print(\n",
    "   alice.place_order(transaction_type = TransactionType.Buy,\n",
    "                     instrument = alice.get_instrument_by_symbol('NSE', 'INFY'),\n",
    "                     quantity = 1,\n",
    "                     order_type = OrderType.Market,\n",
    "                     product_type = ProductType.Intraday,\n",
    "                     price = 0.0,\n",
    "                     trigger_price = None,\n",
    "                     stop_loss = None,\n",
    "                     square_off = None,\n",
    "                     trailing_sl = None,\n",
    "                     is_amo = False)\n",
    ")\n",
    "\n",
    "# TransactionType.Buy, OrderType.Market, ProductType.CoverOrder\n",
    "\n",
    "print (\"%%%%%%%%%%%%%%%%%%%%%%%%%%%%3%%%%%%%%%%%%%%%%%%%%%%%%%%%%%\")\n",
    "print(\n",
    "   alice.place_order(transaction_type = TransactionType.Buy,\n",
    "                     instrument = alice.get_instrument_by_symbol('NSE', 'INFY'),\n",
    "                     quantity = 1,\n",
    "                     order_type = OrderType.Market,\n",
    "                     product_type = ProductType.CoverOrder,\n",
    "                     price = 0.0,\n",
    "                     trigger_price = 7.5, # trigger_price Here the trigger_price is taken as stop loss (provide stop loss in actual amount)\n",
    "                     stop_loss = None,\n",
    "                     square_off = None,\n",
    "                     trailing_sl = None,\n",
    "                     is_amo = False)\n",
    ")\n",
    "\n",
    "\n",
    "# TransactionType.Buy, OrderType.Limit, ProductType.BracketOrder\n",
    "# OCO Order can't be of type market\n",
    "\n",
    "print (\"%%%%%%%%%%%%%%%%%%%%%%%%%%%%4%%%%%%%%%%%%%%%%%%%%%%%%%%%%%\")\n",
    "print(\n",
    "   alice.place_order(transaction_type = TransactionType.Buy,\n",
    "                     instrument = alice.get_instrument_by_symbol('NSE', 'INFY'),\n",
    "                     quantity = 1,\n",
    "                     order_type = OrderType.Limit,\n",
    "                     product_type = ProductType.BracketOrder,\n",
    "                     price = 8.0,\n",
    "                     trigger_price = None,\n",
    "                     stop_loss = 6.0,\n",
    "                     square_off = 10.0,\n",
    "                     trailing_sl = None,\n",
    "                     is_amo = False)\n",
    ")\n",
    "\n",
    "# TransactionType.Buy, OrderType.Limit, ProductType.Intraday\n",
    "\n",
    "print (\"%%%%%%%%%%%%%%%%%%%%%%%%%%%%5%%%%%%%%%%%%%%%%%%%%%%%%%%%%%\")\n",
    "print(\n",
    "   alice.place_order(transaction_type = TransactionType.Buy,\n",
    "                     instrument = alice.get_instrument_by_symbol('NSE', 'INFY'),\n",
    "                     quantity = 1,\n",
    "                     order_type = OrderType.Limit,\n",
    "                     product_type = ProductType.Intraday,\n",
    "                     price = 8.0,\n",
    "                     trigger_price = None,\n",
    "                     stop_loss = None,\n",
    "                     square_off = None,\n",
    "                     trailing_sl = None,\n",
    "                     is_amo = False)\n",
    ")\n",
    "\n",
    "\n",
    "# TransactionType.Buy, OrderType.Limit, ProductType.CoverOrder\n",
    "\n",
    "print (\"%%%%%%%%%%%%%%%%%%%%%%%%%%%%6%%%%%%%%%%%%%%%%%%%%%%%%%%%%%\")\n",
    "print(\n",
    "   alice.place_order(transaction_type = TransactionType.Buy,\n",
    "                     instrument = alice.get_instrument_by_symbol('NSE', 'INFY'),\n",
    "                     quantity = 1,\n",
    "                     order_type = OrderType.Limit,\n",
    "                     product_type = ProductType.CoverOrder,\n",
    "                     price = 7.0,\n",
    "                     trigger_price = 6.5, # trigger_price Here the trigger_price is taken as stop loss (provide stop loss in actual amount)\n",
    "                     stop_loss = None,\n",
    "                     square_off = None,\n",
    "                     trailing_sl = None,\n",
    "                     is_amo = False)\n",
    ")\n",
    "\n",
    "###############################\n",
    "\n",
    "# TransactionType.Buy, OrderType.StopLossMarket, ProductType.Delivery\n",
    "\n",
    "print (\"%%%%%%%%%%%%%%%%%%%%%%%%%%%%7%%%%%%%%%%%%%%%%%%%%%%%%%%%%%\")\n",
    "print(\n",
    "   alice.place_order(transaction_type = TransactionType.Buy,\n",
    "                     instrument = alice.get_instrument_by_symbol('NSE', 'INFY'),\n",
    "                     quantity = 1,\n",
    "                     order_type = OrderType.StopLossMarket,\n",
    "                     product_type = ProductType.Delivery,\n",
    "                     price = 0.0,\n",
    "                     trigger_price = 8.0,\n",
    "                     stop_loss = None,\n",
    "                     square_off = None,\n",
    "                     trailing_sl = None,\n",
    "                     is_amo = False)\n",
    ")\n",
    "\n",
    "\n",
    "# TransactionType.Buy, OrderType.StopLossMarket, ProductType.Intraday\n",
    "\n",
    "print (\"%%%%%%%%%%%%%%%%%%%%%%%%%%%%8%%%%%%%%%%%%%%%%%%%%%%%%%%%%%\")\n",
    "print(\n",
    "   alice.place_order(transaction_type = TransactionType.Buy,\n",
    "                     instrument = alice.get_instrument_by_symbol('NSE', 'INFY'),\n",
    "                     quantity = 1,\n",
    "                     order_type = OrderType.StopLossMarket,\n",
    "                     product_type = ProductType.Intraday,\n",
    "                     price = 0.0,\n",
    "                     trigger_price = 8.0,\n",
    "                     stop_loss = None,\n",
    "                     square_off = None,\n",
    "                     trailing_sl = None,\n",
    "                     is_amo = False)\n",
    ")\n",
    "\n",
    "\n",
    "\n",
    "# TransactionType.Buy, OrderType.StopLossMarket, ProductType.CoverOrder\n",
    "# CO order is of type Limit and And Market Only\n",
    "\n",
    "# TransactionType.Buy, OrderType.StopLossMarket, ProductType.BO\n",
    "# BO order is of type Limit and And Market Only\n",
    "\n",
    "###################################\n",
    "\n",
    "# TransactionType.Buy, OrderType.StopLossLimit, ProductType.Delivery\n",
    "\n",
    "print (\"%%%%%%%%%%%%%%%%%%%%%%%%%%%%9%%%%%%%%%%%%%%%%%%%%%%%%%%%%%\")\n",
    "print(\n",
    "   alice.place_order(transaction_type = TransactionType.Buy,\n",
    "                     instrument = alice.get_instrument_by_symbol('NSE', 'INFY'),\n",
    "                     quantity = 1,\n",
    "                     order_type = OrderType.StopLossMarket,\n",
    "                     product_type = ProductType.Delivery,\n",
    "                     price = 8.0,\n",
    "                     trigger_price = 8.0,\n",
    "                     stop_loss = None,\n",
    "                     square_off = None,\n",
    "                     trailing_sl = None,\n",
    "                     is_amo = False)\n",
    ")\n",
    "\n",
    "\n",
    "# TransactionType.Buy, OrderType.StopLossLimit, ProductType.Intraday\n",
    "\n",
    "print (\"%%%%%%%%%%%%%%%%%%%%%%%%%%%%10%%%%%%%%%%%%%%%%%%%%%%%%%%%%%\")\n",
    "print(\n",
    "   alice.place_order(transaction_type = TransactionType.Buy,\n",
    "                     instrument = alice.get_instrument_by_symbol('NSE', 'INFY'),\n",
    "                     quantity = 1,\n",
    "                     order_type = OrderType.StopLossLimit,\n",
    "                     product_type = ProductType.Intraday,\n",
    "                     price = 8.0,\n",
    "                     trigger_price = 8.0,\n",
    "                     stop_loss = None,\n",
    "                     square_off = None,\n",
    "                     trailing_sl = None,\n",
    "                     is_amo = False)\n",
    ")\n",
    "\n",
    "\n",
    "\n",
    "# TransactionType.Buy, OrderType.StopLossLimit, ProductType.CoverOrder\n",
    "# CO order is of type Limit and And Market Only\n",
    "\n",
    "\n",
    "# TransactionType.Buy, OrderType.StopLossLimit, ProductType.BracketOrder\n",
    "\n",
    "print (\"%%%%%%%%%%%%%%%%%%%%%%%%%%%%11%%%%%%%%%%%%%%%%%%%%%%%%%%%%%\")\n",
    "print(\n",
    "   alice.place_order(transaction_type = TransactionType.Buy,\n",
    "                     instrument = alice.get_instrument_by_symbol('NSE', 'INFY'),\n",
    "                     quantity = 1,\n",
    "                     order_type = OrderType.StopLossLimit,\n",
    "                     product_type = ProductType.BracketOrder,\n",
    "                     price = 8.0,\n",
    "                     trigger_price = 8.0,\n",
    "                     stop_loss = 1.0,\n",
    "                     square_off = 1.0,\n",
    "                     trailing_sl = 20,\n",
    "                     is_amo = False)\n",
    ")"
   ]
  },
  {
   "cell_type": "code",
   "execution_count": null,
   "id": "compressed-trailer",
   "metadata": {},
   "outputs": [],
   "source": [
    "print (\"%%%%%%%%%%%%%%%%%%%%%%%%%%%%10%%%%%%%%%%%%%%%%%%%%%%%%%%%%%\")\n",
    "print(\n",
    "   alice.place_order(transaction_type = TransactionType.Buy,\n",
    "                     instrument = alice.get_instrument_by_symbol('NSE', 'INFY'),\n",
    "                     quantity = 1,\n",
    "                     order_type = OrderType.StopLossLimit,\n",
    "                     product_type = ProductType.Intraday,\n",
    "                     price = 8.0,\n",
    "                     trigger_price = 8.0,\n",
    "                     stop_loss = None,\n",
    "                     square_off = None,\n",
    "                     trailing_sl = None,\n",
    "                     is_amo = False)\n",
    ")\n"
   ]
  },
  {
   "cell_type": "code",
   "execution_count": null,
   "id": "remarkable-lithuania",
   "metadata": {},
   "outputs": [],
   "source": [
    "print (\"%%%%%%%%%%%%%%%%%%%%%%%%%%%%10%%%%%%%%%%%%%%%%%%%%%%%%%%%%%\")\n",
    "print(\n",
    "   alice.place_order(transaction_type = TransactionType.Buy,\n",
    "                     instrument = alice.get_instrument_by_symbol('NSE', 'LUPIN'),\n",
    "                     quantity = 1,\n",
    "                     order_type = OrderType.StopLossLimit,\n",
    "                     product_type = ProductType.Intraday,\n",
    "                     price = 8.0,\n",
    "                     trigger_price = 8.0,\n",
    "                     stop_loss = None,\n",
    "                     square_off = None,\n",
    "                     trailing_sl = None,\n",
    "                     is_amo = False)\n",
    ")\n"
   ]
  },
  {
   "cell_type": "code",
   "execution_count": null,
   "id": "orange-visiting",
   "metadata": {},
   "outputs": [],
   "source": [
    "print (\"%%%%%%%%%%%%%%%%%%%%%%%%%%%%10%%%%%%%%%%%%%%%%%%%%%%%%%%%%%\")\n",
    "print(\n",
    "   alice.place_order(transaction_type = TransactionType.Buy,\n",
    "                     instrument = alice.get_instrument_by_symbol('NSE', 'VIMTALABS'),\n",
    "                     quantity = 1,\n",
    "                     order_type = OrderType.StopLossLimit,\n",
    "                     product_type = ProductType.Intraday,\n",
    "                     price = 16.0,\n",
    "                     trigger_price = 16.0,\n",
    "                     stop_loss = None,\n",
    "                     square_off = None,\n",
    "                     trailing_sl = None,\n",
    "                     is_amo = False)\n",
    ")\n"
   ]
  },
  {
   "cell_type": "code",
   "execution_count": null,
   "id": "hidden-parcel",
   "metadata": {},
   "outputs": [],
   "source": [
    "print (\"%%%%%%%%%%%%%%%%%%%%%%%%%%%%10%%%%%%%%%%%%%%%%%%%%%%%%%%%%%\")\n",
    "print(\n",
    "   alice.place_order(transaction_type = TransactionType.Buy,\n",
    "                     instrument = alice.get_instrument_by_symbol('NSE', 'SPMLINFRA'),\n",
    "                     quantity = 1,\n",
    "                     order_type = OrderType.StopLossLimit,\n",
    "                     product_type = ProductType.Intraday,\n",
    "                     price = 10.55,\n",
    "                     trigger_price = 10.55,\n",
    "                     stop_loss = None,\n",
    "                     square_off = None,\n",
    "                     trailing_sl = None,\n",
    "                     is_amo = False)\n",
    ")\n"
   ]
  },
  {
   "cell_type": "code",
   "execution_count": null,
   "id": "illegal-satin",
   "metadata": {},
   "outputs": [],
   "source": []
  }
 ],
 "metadata": {
  "kernelspec": {
   "display_name": "Python 3",
   "language": "python",
   "name": "python3"
  },
  "language_info": {
   "codemirror_mode": {
    "name": "ipython",
    "version": 3
   },
   "file_extension": ".py",
   "mimetype": "text/x-python",
   "name": "python",
   "nbconvert_exporter": "python",
   "pygments_lexer": "ipython3",
   "version": "3.8.5"
  }
 },
 "nbformat": 4,
 "nbformat_minor": 5
}
